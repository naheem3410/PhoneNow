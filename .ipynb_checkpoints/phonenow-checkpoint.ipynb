{
 "cells": [
  {
   "cell_type": "markdown",
   "id": "7f38fa4a",
   "metadata": {},
   "source": [
    "### Introduction\n",
    "The project is about extracting relevant key performance indicator (KPIs) and metrics that can be used by PhoneNow to view the long-term trends in customer and agent behaviour. PhoneNow is a telecommunication company interested in visualizing data in such a way that important aspects become very clear."
   ]
  },
  {
   "cell_type": "code",
   "execution_count": 37,
   "id": "ad7c0c60",
   "metadata": {},
   "outputs": [],
   "source": [
    "# import all packages and set plots to be embedded inline\n",
    "import numpy as np\n",
    "import pandas as pd\n",
    "import matplotlib.pyplot as plt\n",
    "import seaborn as sns\n",
    "\n",
    "%matplotlib inline"
   ]
  },
  {
   "cell_type": "markdown",
   "id": "3b08afc6",
   "metadata": {},
   "source": [
    "## Data Wrangling"
   ]
  },
  {
   "cell_type": "markdown",
   "id": "f8f93122",
   "metadata": {},
   "source": [
    "### Data Gathering"
   ]
  },
  {
   "cell_type": "code",
   "execution_count": 2,
   "id": "1604a44a",
   "metadata": {},
   "outputs": [],
   "source": [
    "#load the dataset\n",
    "df = pd.read_excel('01-Call-Center-Dataset.xlsx')"
   ]
  },
  {
   "cell_type": "markdown",
   "id": "849474ae",
   "metadata": {},
   "source": [
    "### Assessing Data"
   ]
  },
  {
   "cell_type": "markdown",
   "id": "50ac9f39",
   "metadata": {},
   "source": [
    "### Visual Assessment"
   ]
  },
  {
   "cell_type": "code",
   "execution_count": 3,
   "id": "bbffaa52",
   "metadata": {},
   "outputs": [
    {
     "data": {
      "text/html": [
       "<div>\n",
       "<style scoped>\n",
       "    .dataframe tbody tr th:only-of-type {\n",
       "        vertical-align: middle;\n",
       "    }\n",
       "\n",
       "    .dataframe tbody tr th {\n",
       "        vertical-align: top;\n",
       "    }\n",
       "\n",
       "    .dataframe thead th {\n",
       "        text-align: right;\n",
       "    }\n",
       "</style>\n",
       "<table border=\"1\" class=\"dataframe\">\n",
       "  <thead>\n",
       "    <tr style=\"text-align: right;\">\n",
       "      <th></th>\n",
       "      <th>Call Id</th>\n",
       "      <th>Agent</th>\n",
       "      <th>Date</th>\n",
       "      <th>Time</th>\n",
       "      <th>Topic</th>\n",
       "      <th>Answered (Y/N)</th>\n",
       "      <th>Resolved</th>\n",
       "      <th>Speed of answer in seconds</th>\n",
       "      <th>AvgTalkDuration</th>\n",
       "      <th>Satisfaction rating</th>\n",
       "    </tr>\n",
       "  </thead>\n",
       "  <tbody>\n",
       "    <tr>\n",
       "      <th>0</th>\n",
       "      <td>ID0001</td>\n",
       "      <td>Diane</td>\n",
       "      <td>2021-01-01</td>\n",
       "      <td>09:12:58</td>\n",
       "      <td>Contract related</td>\n",
       "      <td>Y</td>\n",
       "      <td>Y</td>\n",
       "      <td>109.0</td>\n",
       "      <td>00:02:23</td>\n",
       "      <td>3.0</td>\n",
       "    </tr>\n",
       "    <tr>\n",
       "      <th>1</th>\n",
       "      <td>ID0002</td>\n",
       "      <td>Becky</td>\n",
       "      <td>2021-01-01</td>\n",
       "      <td>09:12:58</td>\n",
       "      <td>Technical Support</td>\n",
       "      <td>Y</td>\n",
       "      <td>N</td>\n",
       "      <td>70.0</td>\n",
       "      <td>00:04:02</td>\n",
       "      <td>3.0</td>\n",
       "    </tr>\n",
       "    <tr>\n",
       "      <th>2</th>\n",
       "      <td>ID0003</td>\n",
       "      <td>Stewart</td>\n",
       "      <td>2021-01-01</td>\n",
       "      <td>09:47:31</td>\n",
       "      <td>Contract related</td>\n",
       "      <td>Y</td>\n",
       "      <td>Y</td>\n",
       "      <td>10.0</td>\n",
       "      <td>00:02:11</td>\n",
       "      <td>3.0</td>\n",
       "    </tr>\n",
       "    <tr>\n",
       "      <th>3</th>\n",
       "      <td>ID0004</td>\n",
       "      <td>Greg</td>\n",
       "      <td>2021-01-01</td>\n",
       "      <td>09:47:31</td>\n",
       "      <td>Contract related</td>\n",
       "      <td>Y</td>\n",
       "      <td>Y</td>\n",
       "      <td>53.0</td>\n",
       "      <td>00:00:37</td>\n",
       "      <td>2.0</td>\n",
       "    </tr>\n",
       "    <tr>\n",
       "      <th>4</th>\n",
       "      <td>ID0005</td>\n",
       "      <td>Becky</td>\n",
       "      <td>2021-01-01</td>\n",
       "      <td>10:00:29</td>\n",
       "      <td>Payment related</td>\n",
       "      <td>Y</td>\n",
       "      <td>Y</td>\n",
       "      <td>95.0</td>\n",
       "      <td>00:01:00</td>\n",
       "      <td>3.0</td>\n",
       "    </tr>\n",
       "    <tr>\n",
       "      <th>...</th>\n",
       "      <td>...</td>\n",
       "      <td>...</td>\n",
       "      <td>...</td>\n",
       "      <td>...</td>\n",
       "      <td>...</td>\n",
       "      <td>...</td>\n",
       "      <td>...</td>\n",
       "      <td>...</td>\n",
       "      <td>...</td>\n",
       "      <td>...</td>\n",
       "    </tr>\n",
       "    <tr>\n",
       "      <th>4995</th>\n",
       "      <td>ID4996</td>\n",
       "      <td>Jim</td>\n",
       "      <td>2021-03-31</td>\n",
       "      <td>16:37:55</td>\n",
       "      <td>Payment related</td>\n",
       "      <td>Y</td>\n",
       "      <td>Y</td>\n",
       "      <td>22.0</td>\n",
       "      <td>00:05:40</td>\n",
       "      <td>1.0</td>\n",
       "    </tr>\n",
       "    <tr>\n",
       "      <th>4996</th>\n",
       "      <td>ID4997</td>\n",
       "      <td>Diane</td>\n",
       "      <td>2021-03-31</td>\n",
       "      <td>16:45:07</td>\n",
       "      <td>Payment related</td>\n",
       "      <td>Y</td>\n",
       "      <td>Y</td>\n",
       "      <td>100.0</td>\n",
       "      <td>00:03:16</td>\n",
       "      <td>3.0</td>\n",
       "    </tr>\n",
       "    <tr>\n",
       "      <th>4997</th>\n",
       "      <td>ID4998</td>\n",
       "      <td>Diane</td>\n",
       "      <td>2021-03-31</td>\n",
       "      <td>16:53:46</td>\n",
       "      <td>Payment related</td>\n",
       "      <td>Y</td>\n",
       "      <td>Y</td>\n",
       "      <td>84.0</td>\n",
       "      <td>00:01:49</td>\n",
       "      <td>4.0</td>\n",
       "    </tr>\n",
       "    <tr>\n",
       "      <th>4998</th>\n",
       "      <td>ID4999</td>\n",
       "      <td>Jim</td>\n",
       "      <td>2021-03-31</td>\n",
       "      <td>17:02:24</td>\n",
       "      <td>Streaming</td>\n",
       "      <td>Y</td>\n",
       "      <td>Y</td>\n",
       "      <td>98.0</td>\n",
       "      <td>00:00:58</td>\n",
       "      <td>5.0</td>\n",
       "    </tr>\n",
       "    <tr>\n",
       "      <th>4999</th>\n",
       "      <td>ID5000</td>\n",
       "      <td>Diane</td>\n",
       "      <td>2021-03-31</td>\n",
       "      <td>17:39:50</td>\n",
       "      <td>Contract related</td>\n",
       "      <td>N</td>\n",
       "      <td>N</td>\n",
       "      <td>NaN</td>\n",
       "      <td>NaN</td>\n",
       "      <td>NaN</td>\n",
       "    </tr>\n",
       "  </tbody>\n",
       "</table>\n",
       "<p>5000 rows × 10 columns</p>\n",
       "</div>"
      ],
      "text/plain": [
       "     Call Id    Agent        Date      Time              Topic Answered (Y/N)  \\\n",
       "0     ID0001    Diane  2021-01-01  09:12:58   Contract related              Y   \n",
       "1     ID0002    Becky  2021-01-01  09:12:58  Technical Support              Y   \n",
       "2     ID0003  Stewart  2021-01-01  09:47:31   Contract related              Y   \n",
       "3     ID0004     Greg  2021-01-01  09:47:31   Contract related              Y   \n",
       "4     ID0005    Becky  2021-01-01  10:00:29    Payment related              Y   \n",
       "...      ...      ...         ...       ...                ...            ...   \n",
       "4995  ID4996      Jim  2021-03-31  16:37:55    Payment related              Y   \n",
       "4996  ID4997    Diane  2021-03-31  16:45:07    Payment related              Y   \n",
       "4997  ID4998    Diane  2021-03-31  16:53:46    Payment related              Y   \n",
       "4998  ID4999      Jim  2021-03-31  17:02:24          Streaming              Y   \n",
       "4999  ID5000    Diane  2021-03-31  17:39:50   Contract related              N   \n",
       "\n",
       "     Resolved  Speed of answer in seconds AvgTalkDuration  Satisfaction rating  \n",
       "0           Y                       109.0        00:02:23                  3.0  \n",
       "1           N                        70.0        00:04:02                  3.0  \n",
       "2           Y                        10.0        00:02:11                  3.0  \n",
       "3           Y                        53.0        00:00:37                  2.0  \n",
       "4           Y                        95.0        00:01:00                  3.0  \n",
       "...       ...                         ...             ...                  ...  \n",
       "4995        Y                        22.0        00:05:40                  1.0  \n",
       "4996        Y                       100.0        00:03:16                  3.0  \n",
       "4997        Y                        84.0        00:01:49                  4.0  \n",
       "4998        Y                        98.0        00:00:58                  5.0  \n",
       "4999        N                         NaN             NaN                  NaN  \n",
       "\n",
       "[5000 rows x 10 columns]"
      ]
     },
     "execution_count": 3,
     "metadata": {},
     "output_type": "execute_result"
    }
   ],
   "source": [
    "#show all rows and columns from dataset\n",
    "df"
   ]
  },
  {
   "cell_type": "markdown",
   "id": "d202445f",
   "metadata": {},
   "source": [
    "### Programmatic Assessment"
   ]
  },
  {
   "cell_type": "code",
   "execution_count": 4,
   "id": "19571ef4",
   "metadata": {},
   "outputs": [
    {
     "data": {
      "text/html": [
       "<div>\n",
       "<style scoped>\n",
       "    .dataframe tbody tr th:only-of-type {\n",
       "        vertical-align: middle;\n",
       "    }\n",
       "\n",
       "    .dataframe tbody tr th {\n",
       "        vertical-align: top;\n",
       "    }\n",
       "\n",
       "    .dataframe thead th {\n",
       "        text-align: right;\n",
       "    }\n",
       "</style>\n",
       "<table border=\"1\" class=\"dataframe\">\n",
       "  <thead>\n",
       "    <tr style=\"text-align: right;\">\n",
       "      <th></th>\n",
       "      <th>Call Id</th>\n",
       "      <th>Agent</th>\n",
       "      <th>Date</th>\n",
       "      <th>Time</th>\n",
       "      <th>Topic</th>\n",
       "      <th>Answered (Y/N)</th>\n",
       "      <th>Resolved</th>\n",
       "      <th>Speed of answer in seconds</th>\n",
       "      <th>AvgTalkDuration</th>\n",
       "      <th>Satisfaction rating</th>\n",
       "    </tr>\n",
       "  </thead>\n",
       "  <tbody>\n",
       "    <tr>\n",
       "      <th>0</th>\n",
       "      <td>ID0001</td>\n",
       "      <td>Diane</td>\n",
       "      <td>2021-01-01</td>\n",
       "      <td>09:12:58</td>\n",
       "      <td>Contract related</td>\n",
       "      <td>Y</td>\n",
       "      <td>Y</td>\n",
       "      <td>109.0</td>\n",
       "      <td>00:02:23</td>\n",
       "      <td>3.0</td>\n",
       "    </tr>\n",
       "    <tr>\n",
       "      <th>1</th>\n",
       "      <td>ID0002</td>\n",
       "      <td>Becky</td>\n",
       "      <td>2021-01-01</td>\n",
       "      <td>09:12:58</td>\n",
       "      <td>Technical Support</td>\n",
       "      <td>Y</td>\n",
       "      <td>N</td>\n",
       "      <td>70.0</td>\n",
       "      <td>00:04:02</td>\n",
       "      <td>3.0</td>\n",
       "    </tr>\n",
       "    <tr>\n",
       "      <th>2</th>\n",
       "      <td>ID0003</td>\n",
       "      <td>Stewart</td>\n",
       "      <td>2021-01-01</td>\n",
       "      <td>09:47:31</td>\n",
       "      <td>Contract related</td>\n",
       "      <td>Y</td>\n",
       "      <td>Y</td>\n",
       "      <td>10.0</td>\n",
       "      <td>00:02:11</td>\n",
       "      <td>3.0</td>\n",
       "    </tr>\n",
       "    <tr>\n",
       "      <th>3</th>\n",
       "      <td>ID0004</td>\n",
       "      <td>Greg</td>\n",
       "      <td>2021-01-01</td>\n",
       "      <td>09:47:31</td>\n",
       "      <td>Contract related</td>\n",
       "      <td>Y</td>\n",
       "      <td>Y</td>\n",
       "      <td>53.0</td>\n",
       "      <td>00:00:37</td>\n",
       "      <td>2.0</td>\n",
       "    </tr>\n",
       "    <tr>\n",
       "      <th>4</th>\n",
       "      <td>ID0005</td>\n",
       "      <td>Becky</td>\n",
       "      <td>2021-01-01</td>\n",
       "      <td>10:00:29</td>\n",
       "      <td>Payment related</td>\n",
       "      <td>Y</td>\n",
       "      <td>Y</td>\n",
       "      <td>95.0</td>\n",
       "      <td>00:01:00</td>\n",
       "      <td>3.0</td>\n",
       "    </tr>\n",
       "  </tbody>\n",
       "</table>\n",
       "</div>"
      ],
      "text/plain": [
       "  Call Id    Agent        Date      Time              Topic Answered (Y/N)  \\\n",
       "0  ID0001    Diane  2021-01-01  09:12:58   Contract related              Y   \n",
       "1  ID0002    Becky  2021-01-01  09:12:58  Technical Support              Y   \n",
       "2  ID0003  Stewart  2021-01-01  09:47:31   Contract related              Y   \n",
       "3  ID0004     Greg  2021-01-01  09:47:31   Contract related              Y   \n",
       "4  ID0005    Becky  2021-01-01  10:00:29    Payment related              Y   \n",
       "\n",
       "  Resolved  Speed of answer in seconds AvgTalkDuration  Satisfaction rating  \n",
       "0        Y                       109.0        00:02:23                  3.0  \n",
       "1        N                        70.0        00:04:02                  3.0  \n",
       "2        Y                        10.0        00:02:11                  3.0  \n",
       "3        Y                        53.0        00:00:37                  2.0  \n",
       "4        Y                        95.0        00:01:00                  3.0  "
      ]
     },
     "execution_count": 4,
     "metadata": {},
     "output_type": "execute_result"
    }
   ],
   "source": [
    "#list first 5 rows\n",
    "df.head()"
   ]
  },
  {
   "cell_type": "code",
   "execution_count": 5,
   "id": "71de83e3",
   "metadata": {},
   "outputs": [
    {
     "name": "stdout",
     "output_type": "stream",
     "text": [
      "<class 'pandas.core.frame.DataFrame'>\n",
      "RangeIndex: 5000 entries, 0 to 4999\n",
      "Data columns (total 10 columns):\n",
      " #   Column                      Non-Null Count  Dtype  \n",
      "---  ------                      --------------  -----  \n",
      " 0   Call Id                     5000 non-null   object \n",
      " 1   Agent                       5000 non-null   object \n",
      " 2   Date                        5000 non-null   object \n",
      " 3   Time                        5000 non-null   object \n",
      " 4   Topic                       5000 non-null   object \n",
      " 5   Answered (Y/N)              5000 non-null   object \n",
      " 6   Resolved                    5000 non-null   object \n",
      " 7   Speed of answer in seconds  4054 non-null   float64\n",
      " 8   AvgTalkDuration             4054 non-null   object \n",
      " 9   Satisfaction rating         4054 non-null   float64\n",
      "dtypes: float64(2), object(8)\n",
      "memory usage: 390.8+ KB\n"
     ]
    }
   ],
   "source": [
    "#check the number of rows, columns, datatypes and missing data\n",
    "df.info()"
   ]
  },
  {
   "cell_type": "code",
   "execution_count": 6,
   "id": "305b6c4f",
   "metadata": {},
   "outputs": [
    {
     "data": {
      "text/html": [
       "<div>\n",
       "<style scoped>\n",
       "    .dataframe tbody tr th:only-of-type {\n",
       "        vertical-align: middle;\n",
       "    }\n",
       "\n",
       "    .dataframe tbody tr th {\n",
       "        vertical-align: top;\n",
       "    }\n",
       "\n",
       "    .dataframe thead th {\n",
       "        text-align: right;\n",
       "    }\n",
       "</style>\n",
       "<table border=\"1\" class=\"dataframe\">\n",
       "  <thead>\n",
       "    <tr style=\"text-align: right;\">\n",
       "      <th></th>\n",
       "      <th>Speed of answer in seconds</th>\n",
       "      <th>Satisfaction rating</th>\n",
       "    </tr>\n",
       "  </thead>\n",
       "  <tbody>\n",
       "    <tr>\n",
       "      <th>count</th>\n",
       "      <td>4054.000000</td>\n",
       "      <td>4054.000000</td>\n",
       "    </tr>\n",
       "    <tr>\n",
       "      <th>mean</th>\n",
       "      <td>67.520720</td>\n",
       "      <td>3.403552</td>\n",
       "    </tr>\n",
       "    <tr>\n",
       "      <th>std</th>\n",
       "      <td>33.592872</td>\n",
       "      <td>1.212220</td>\n",
       "    </tr>\n",
       "    <tr>\n",
       "      <th>min</th>\n",
       "      <td>10.000000</td>\n",
       "      <td>1.000000</td>\n",
       "    </tr>\n",
       "    <tr>\n",
       "      <th>25%</th>\n",
       "      <td>39.000000</td>\n",
       "      <td>3.000000</td>\n",
       "    </tr>\n",
       "    <tr>\n",
       "      <th>50%</th>\n",
       "      <td>68.000000</td>\n",
       "      <td>3.000000</td>\n",
       "    </tr>\n",
       "    <tr>\n",
       "      <th>75%</th>\n",
       "      <td>97.000000</td>\n",
       "      <td>4.000000</td>\n",
       "    </tr>\n",
       "    <tr>\n",
       "      <th>max</th>\n",
       "      <td>125.000000</td>\n",
       "      <td>5.000000</td>\n",
       "    </tr>\n",
       "  </tbody>\n",
       "</table>\n",
       "</div>"
      ],
      "text/plain": [
       "       Speed of answer in seconds  Satisfaction rating\n",
       "count                 4054.000000          4054.000000\n",
       "mean                    67.520720             3.403552\n",
       "std                     33.592872             1.212220\n",
       "min                     10.000000             1.000000\n",
       "25%                     39.000000             3.000000\n",
       "50%                     68.000000             3.000000\n",
       "75%                     97.000000             4.000000\n",
       "max                    125.000000             5.000000"
      ]
     },
     "execution_count": 6,
     "metadata": {},
     "output_type": "execute_result"
    }
   ],
   "source": [
    "#check basic statistics\n",
    "df.describe()"
   ]
  },
  {
   "cell_type": "code",
   "execution_count": 7,
   "id": "d99414ad",
   "metadata": {},
   "outputs": [
    {
     "data": {
      "text/html": [
       "<div>\n",
       "<style scoped>\n",
       "    .dataframe tbody tr th:only-of-type {\n",
       "        vertical-align: middle;\n",
       "    }\n",
       "\n",
       "    .dataframe tbody tr th {\n",
       "        vertical-align: top;\n",
       "    }\n",
       "\n",
       "    .dataframe thead th {\n",
       "        text-align: right;\n",
       "    }\n",
       "</style>\n",
       "<table border=\"1\" class=\"dataframe\">\n",
       "  <thead>\n",
       "    <tr style=\"text-align: right;\">\n",
       "      <th></th>\n",
       "      <th>Call Id</th>\n",
       "      <th>Agent</th>\n",
       "      <th>Date</th>\n",
       "      <th>Time</th>\n",
       "      <th>Topic</th>\n",
       "      <th>Answered (Y/N)</th>\n",
       "      <th>Resolved</th>\n",
       "      <th>Speed of answer in seconds</th>\n",
       "      <th>AvgTalkDuration</th>\n",
       "      <th>Satisfaction rating</th>\n",
       "    </tr>\n",
       "  </thead>\n",
       "  <tbody>\n",
       "    <tr>\n",
       "      <th>count</th>\n",
       "      <td>5000</td>\n",
       "      <td>5000</td>\n",
       "      <td>5000</td>\n",
       "      <td>5000</td>\n",
       "      <td>5000</td>\n",
       "      <td>5000</td>\n",
       "      <td>5000</td>\n",
       "      <td>4054.000000</td>\n",
       "      <td>4054</td>\n",
       "      <td>4054.000000</td>\n",
       "    </tr>\n",
       "    <tr>\n",
       "      <th>unique</th>\n",
       "      <td>5000</td>\n",
       "      <td>8</td>\n",
       "      <td>90</td>\n",
       "      <td>375</td>\n",
       "      <td>5</td>\n",
       "      <td>2</td>\n",
       "      <td>2</td>\n",
       "      <td>NaN</td>\n",
       "      <td>391</td>\n",
       "      <td>NaN</td>\n",
       "    </tr>\n",
       "    <tr>\n",
       "      <th>top</th>\n",
       "      <td>ID0001</td>\n",
       "      <td>Jim</td>\n",
       "      <td>2021-01-11</td>\n",
       "      <td>11:55:41</td>\n",
       "      <td>Streaming</td>\n",
       "      <td>Y</td>\n",
       "      <td>Y</td>\n",
       "      <td>NaN</td>\n",
       "      <td>00:04:43</td>\n",
       "      <td>NaN</td>\n",
       "    </tr>\n",
       "    <tr>\n",
       "      <th>freq</th>\n",
       "      <td>1</td>\n",
       "      <td>666</td>\n",
       "      <td>84</td>\n",
       "      <td>30</td>\n",
       "      <td>1022</td>\n",
       "      <td>4054</td>\n",
       "      <td>3646</td>\n",
       "      <td>NaN</td>\n",
       "      <td>22</td>\n",
       "      <td>NaN</td>\n",
       "    </tr>\n",
       "    <tr>\n",
       "      <th>mean</th>\n",
       "      <td>NaN</td>\n",
       "      <td>NaN</td>\n",
       "      <td>NaN</td>\n",
       "      <td>NaN</td>\n",
       "      <td>NaN</td>\n",
       "      <td>NaN</td>\n",
       "      <td>NaN</td>\n",
       "      <td>67.520720</td>\n",
       "      <td>NaN</td>\n",
       "      <td>3.403552</td>\n",
       "    </tr>\n",
       "    <tr>\n",
       "      <th>std</th>\n",
       "      <td>NaN</td>\n",
       "      <td>NaN</td>\n",
       "      <td>NaN</td>\n",
       "      <td>NaN</td>\n",
       "      <td>NaN</td>\n",
       "      <td>NaN</td>\n",
       "      <td>NaN</td>\n",
       "      <td>33.592872</td>\n",
       "      <td>NaN</td>\n",
       "      <td>1.212220</td>\n",
       "    </tr>\n",
       "    <tr>\n",
       "      <th>min</th>\n",
       "      <td>NaN</td>\n",
       "      <td>NaN</td>\n",
       "      <td>NaN</td>\n",
       "      <td>NaN</td>\n",
       "      <td>NaN</td>\n",
       "      <td>NaN</td>\n",
       "      <td>NaN</td>\n",
       "      <td>10.000000</td>\n",
       "      <td>NaN</td>\n",
       "      <td>1.000000</td>\n",
       "    </tr>\n",
       "    <tr>\n",
       "      <th>25%</th>\n",
       "      <td>NaN</td>\n",
       "      <td>NaN</td>\n",
       "      <td>NaN</td>\n",
       "      <td>NaN</td>\n",
       "      <td>NaN</td>\n",
       "      <td>NaN</td>\n",
       "      <td>NaN</td>\n",
       "      <td>39.000000</td>\n",
       "      <td>NaN</td>\n",
       "      <td>3.000000</td>\n",
       "    </tr>\n",
       "    <tr>\n",
       "      <th>50%</th>\n",
       "      <td>NaN</td>\n",
       "      <td>NaN</td>\n",
       "      <td>NaN</td>\n",
       "      <td>NaN</td>\n",
       "      <td>NaN</td>\n",
       "      <td>NaN</td>\n",
       "      <td>NaN</td>\n",
       "      <td>68.000000</td>\n",
       "      <td>NaN</td>\n",
       "      <td>3.000000</td>\n",
       "    </tr>\n",
       "    <tr>\n",
       "      <th>75%</th>\n",
       "      <td>NaN</td>\n",
       "      <td>NaN</td>\n",
       "      <td>NaN</td>\n",
       "      <td>NaN</td>\n",
       "      <td>NaN</td>\n",
       "      <td>NaN</td>\n",
       "      <td>NaN</td>\n",
       "      <td>97.000000</td>\n",
       "      <td>NaN</td>\n",
       "      <td>4.000000</td>\n",
       "    </tr>\n",
       "    <tr>\n",
       "      <th>max</th>\n",
       "      <td>NaN</td>\n",
       "      <td>NaN</td>\n",
       "      <td>NaN</td>\n",
       "      <td>NaN</td>\n",
       "      <td>NaN</td>\n",
       "      <td>NaN</td>\n",
       "      <td>NaN</td>\n",
       "      <td>125.000000</td>\n",
       "      <td>NaN</td>\n",
       "      <td>5.000000</td>\n",
       "    </tr>\n",
       "  </tbody>\n",
       "</table>\n",
       "</div>"
      ],
      "text/plain": [
       "       Call Id Agent        Date      Time      Topic Answered (Y/N) Resolved  \\\n",
       "count     5000  5000        5000      5000       5000           5000     5000   \n",
       "unique    5000     8          90       375          5              2        2   \n",
       "top     ID0001   Jim  2021-01-11  11:55:41  Streaming              Y        Y   \n",
       "freq         1   666          84        30       1022           4054     3646   \n",
       "mean       NaN   NaN         NaN       NaN        NaN            NaN      NaN   \n",
       "std        NaN   NaN         NaN       NaN        NaN            NaN      NaN   \n",
       "min        NaN   NaN         NaN       NaN        NaN            NaN      NaN   \n",
       "25%        NaN   NaN         NaN       NaN        NaN            NaN      NaN   \n",
       "50%        NaN   NaN         NaN       NaN        NaN            NaN      NaN   \n",
       "75%        NaN   NaN         NaN       NaN        NaN            NaN      NaN   \n",
       "max        NaN   NaN         NaN       NaN        NaN            NaN      NaN   \n",
       "\n",
       "        Speed of answer in seconds AvgTalkDuration  Satisfaction rating  \n",
       "count                  4054.000000            4054          4054.000000  \n",
       "unique                         NaN             391                  NaN  \n",
       "top                            NaN        00:04:43                  NaN  \n",
       "freq                           NaN              22                  NaN  \n",
       "mean                     67.520720             NaN             3.403552  \n",
       "std                      33.592872             NaN             1.212220  \n",
       "min                      10.000000             NaN             1.000000  \n",
       "25%                      39.000000             NaN             3.000000  \n",
       "50%                      68.000000             NaN             3.000000  \n",
       "75%                      97.000000             NaN             4.000000  \n",
       "max                     125.000000             NaN             5.000000  "
      ]
     },
     "execution_count": 7,
     "metadata": {},
     "output_type": "execute_result"
    }
   ],
   "source": [
    "#check basic statistics\n",
    "df.describe(include='all')"
   ]
  },
  {
   "cell_type": "code",
   "execution_count": 8,
   "id": "a077b211",
   "metadata": {},
   "outputs": [
    {
     "data": {
      "text/plain": [
       "Call Id                         0\n",
       "Agent                           0\n",
       "Date                            0\n",
       "Time                            0\n",
       "Topic                           0\n",
       "Answered (Y/N)                  0\n",
       "Resolved                        0\n",
       "Speed of answer in seconds    946\n",
       "AvgTalkDuration               946\n",
       "Satisfaction rating           946\n",
       "dtype: int64"
      ]
     },
     "execution_count": 8,
     "metadata": {},
     "output_type": "execute_result"
    }
   ],
   "source": [
    "#check for null values\n",
    "df.isna().sum()"
   ]
  },
  {
   "cell_type": "code",
   "execution_count": 9,
   "id": "06713735",
   "metadata": {},
   "outputs": [
    {
     "data": {
      "text/plain": [
       "0"
      ]
     },
     "execution_count": 9,
     "metadata": {},
     "output_type": "execute_result"
    }
   ],
   "source": [
    "#check for duplicates\n",
    "df.duplicated().sum()"
   ]
  },
  {
   "cell_type": "code",
   "execution_count": 10,
   "id": "9e354f3d",
   "metadata": {},
   "outputs": [
    {
     "data": {
      "text/plain": [
       "array(['Diane', 'Becky', 'Stewart', 'Greg', 'Jim', 'Joe', 'Martha', 'Dan'],\n",
       "      dtype=object)"
      ]
     },
     "execution_count": 10,
     "metadata": {},
     "output_type": "execute_result"
    }
   ],
   "source": [
    "#check the unique values in Agent\n",
    "df.Agent.unique()"
   ]
  },
  {
   "cell_type": "code",
   "execution_count": 11,
   "id": "5a9c07a9",
   "metadata": {},
   "outputs": [
    {
     "data": {
      "text/plain": [
       "array(['Contract related', 'Technical Support', 'Payment related',\n",
       "       'Admin Support', 'Streaming'], dtype=object)"
      ]
     },
     "execution_count": 11,
     "metadata": {},
     "output_type": "execute_result"
    }
   ],
   "source": [
    "#check the unique values in Topic\n",
    "df.Topic.unique()"
   ]
  },
  {
   "cell_type": "markdown",
   "id": "0a9a2ba1",
   "metadata": {},
   "source": [
    "### Tidiness issues"
   ]
  },
  {
   "cell_type": "markdown",
   "id": "d6fb56cd",
   "metadata": {},
   "source": [
    "* Date and Time columns are in separate columns"
   ]
  },
  {
   "cell_type": "markdown",
   "id": "0d03699a",
   "metadata": {},
   "source": [
    "### Quality issues"
   ]
  },
  {
   "cell_type": "markdown",
   "id": "22584aa0",
   "metadata": {},
   "source": [
    "* `Date` column is string/object datatype\n",
    "* `Answered (Y/N)` column name will not be easy to work with\n",
    "* `Speed of answer in seconds` column name is too long\n",
    "* `Satisfaction rating` column name has space in-between\n",
    "* `Call Id` column name has space in-between"
   ]
  },
  {
   "cell_type": "markdown",
   "id": "63949cd2",
   "metadata": {},
   "source": [
    "### Cleaning"
   ]
  },
  {
   "cell_type": "markdown",
   "id": "74ce46ba",
   "metadata": {},
   "source": [
    "### Tidiness Issues"
   ]
  },
  {
   "cell_type": "code",
   "execution_count": 12,
   "id": "f91d4bdb",
   "metadata": {},
   "outputs": [],
   "source": [
    "#make a copy of the dataset before cleaning\n",
    "df_copy = df.copy()"
   ]
  },
  {
   "cell_type": "markdown",
   "id": "bc2f5914",
   "metadata": {},
   "source": [
    "#### Define\n",
    "I will create a new column `DateTime` that will combine both the date and time"
   ]
  },
  {
   "cell_type": "markdown",
   "id": "5a77a48a",
   "metadata": {},
   "source": [
    "#### Code"
   ]
  },
  {
   "cell_type": "code",
   "execution_count": 13,
   "id": "b76efd91",
   "metadata": {},
   "outputs": [],
   "source": [
    "#create a new column \n",
    "df['DateTime'] = pd.to_datetime(df['Date'].astype(str) + ' ' + df['Time'].astype(str))"
   ]
  },
  {
   "cell_type": "markdown",
   "id": "8229112a",
   "metadata": {},
   "source": [
    "#### Test"
   ]
  },
  {
   "cell_type": "code",
   "execution_count": 14,
   "id": "231b7074",
   "metadata": {},
   "outputs": [
    {
     "data": {
      "text/plain": [
       "Call Id                               object\n",
       "Agent                                 object\n",
       "Date                                  object\n",
       "Time                                  object\n",
       "Topic                                 object\n",
       "Answered (Y/N)                        object\n",
       "Resolved                              object\n",
       "Speed of answer in seconds           float64\n",
       "AvgTalkDuration                       object\n",
       "Satisfaction rating                  float64\n",
       "DateTime                      datetime64[ns]\n",
       "dtype: object"
      ]
     },
     "execution_count": 14,
     "metadata": {},
     "output_type": "execute_result"
    }
   ],
   "source": [
    "#list the columns datatype\n",
    "df.dtypes"
   ]
  },
  {
   "cell_type": "markdown",
   "id": "a4c07f47",
   "metadata": {},
   "source": [
    "### Quality Issues"
   ]
  },
  {
   "cell_type": "markdown",
   "id": "092a9ed1",
   "metadata": {},
   "source": [
    "#### Define\n",
    "I will change the datatype of Date to datetimestamp"
   ]
  },
  {
   "cell_type": "markdown",
   "id": "80e7f75d",
   "metadata": {},
   "source": [
    "#### Code"
   ]
  },
  {
   "cell_type": "code",
   "execution_count": 15,
   "id": "e65521a8",
   "metadata": {},
   "outputs": [],
   "source": [
    "#change Date datatype to datetime\n",
    "df.Date = pd.to_datetime(df.Date)"
   ]
  },
  {
   "cell_type": "markdown",
   "id": "b8ffb5e0",
   "metadata": {},
   "source": [
    "#### Test"
   ]
  },
  {
   "cell_type": "code",
   "execution_count": 16,
   "id": "4b282ba8",
   "metadata": {},
   "outputs": [
    {
     "data": {
      "text/plain": [
       "Call Id                               object\n",
       "Agent                                 object\n",
       "Date                          datetime64[ns]\n",
       "Time                                  object\n",
       "Topic                                 object\n",
       "Answered (Y/N)                        object\n",
       "Resolved                              object\n",
       "Speed of answer in seconds           float64\n",
       "AvgTalkDuration                       object\n",
       "Satisfaction rating                  float64\n",
       "DateTime                      datetime64[ns]\n",
       "dtype: object"
      ]
     },
     "execution_count": 16,
     "metadata": {},
     "output_type": "execute_result"
    }
   ],
   "source": [
    "#list the Date column datatype\n",
    "df.dtypes"
   ]
  },
  {
   "cell_type": "markdown",
   "id": "de3366f5",
   "metadata": {},
   "source": [
    "#### Define\n",
    "I will rename `Answered (Y/N)` column to `Answered`"
   ]
  },
  {
   "cell_type": "markdown",
   "id": "a97779a2",
   "metadata": {},
   "source": [
    "#### Code"
   ]
  },
  {
   "cell_type": "code",
   "execution_count": 17,
   "id": "4de8ae55",
   "metadata": {},
   "outputs": [],
   "source": [
    "#rename column\n",
    "df.rename(columns={'Answered (Y/N)':'Answered'},inplace=True)"
   ]
  },
  {
   "cell_type": "markdown",
   "id": "908f835a",
   "metadata": {},
   "source": [
    "#### Test"
   ]
  },
  {
   "cell_type": "code",
   "execution_count": 18,
   "id": "50576d88",
   "metadata": {
    "scrolled": true
   },
   "outputs": [
    {
     "data": {
      "text/plain": [
       "Index(['Call Id', 'Agent', 'Date', 'Time', 'Topic', 'Answered', 'Resolved',\n",
       "       'Speed of answer in seconds', 'AvgTalkDuration', 'Satisfaction rating',\n",
       "       'DateTime'],\n",
       "      dtype='object')"
      ]
     },
     "execution_count": 18,
     "metadata": {},
     "output_type": "execute_result"
    }
   ],
   "source": [
    "#list the columns we have\n",
    "df.columns"
   ]
  },
  {
   "cell_type": "markdown",
   "id": "d0fa6d27",
   "metadata": {},
   "source": [
    "#### Define\n",
    "I will rename `Speed of answer in seconds` to `AnsweringSpeed`"
   ]
  },
  {
   "cell_type": "markdown",
   "id": "10dd18bf",
   "metadata": {},
   "source": [
    "#### Code"
   ]
  },
  {
   "cell_type": "code",
   "execution_count": 19,
   "id": "a1e9a8ec",
   "metadata": {},
   "outputs": [],
   "source": [
    "#rename column\n",
    "df.rename(columns={'Speed of answer in seconds':'AnsweringSpeed'},inplace=True)"
   ]
  },
  {
   "cell_type": "markdown",
   "id": "a290971f",
   "metadata": {},
   "source": [
    "#### Test"
   ]
  },
  {
   "cell_type": "code",
   "execution_count": 20,
   "id": "55956f43",
   "metadata": {
    "scrolled": true
   },
   "outputs": [
    {
     "data": {
      "text/plain": [
       "Index(['Call Id', 'Agent', 'Date', 'Time', 'Topic', 'Answered', 'Resolved',\n",
       "       'AnsweringSpeed', 'AvgTalkDuration', 'Satisfaction rating', 'DateTime'],\n",
       "      dtype='object')"
      ]
     },
     "execution_count": 20,
     "metadata": {},
     "output_type": "execute_result"
    }
   ],
   "source": [
    "#list the columns we have\n",
    "df.columns"
   ]
  },
  {
   "cell_type": "markdown",
   "id": "6cc7ddd3",
   "metadata": {},
   "source": [
    "#### Define\n",
    "I will rename `Satisfaction rating` to `SatisfactionRating`"
   ]
  },
  {
   "cell_type": "markdown",
   "id": "08bf6f9b",
   "metadata": {},
   "source": [
    "#### Code"
   ]
  },
  {
   "cell_type": "code",
   "execution_count": 21,
   "id": "604706e0",
   "metadata": {},
   "outputs": [],
   "source": [
    "#rename column\n",
    "df.rename(columns={'Satisfaction rating':'SatisfactionRating'},inplace=True)"
   ]
  },
  {
   "cell_type": "markdown",
   "id": "f188c5e6",
   "metadata": {},
   "source": [
    "#### Test"
   ]
  },
  {
   "cell_type": "code",
   "execution_count": 22,
   "id": "a12e5cbb",
   "metadata": {
    "scrolled": true
   },
   "outputs": [
    {
     "data": {
      "text/plain": [
       "Index(['Call Id', 'Agent', 'Date', 'Time', 'Topic', 'Answered', 'Resolved',\n",
       "       'AnsweringSpeed', 'AvgTalkDuration', 'SatisfactionRating', 'DateTime'],\n",
       "      dtype='object')"
      ]
     },
     "execution_count": 22,
     "metadata": {},
     "output_type": "execute_result"
    }
   ],
   "source": [
    "#list the columns we have\n",
    "df.columns"
   ]
  },
  {
   "cell_type": "markdown",
   "id": "f74d5f30",
   "metadata": {},
   "source": [
    "#### Define\n",
    "I will rename `Call Id` to `CallID`"
   ]
  },
  {
   "cell_type": "markdown",
   "id": "7f50bb47",
   "metadata": {},
   "source": [
    "#### Code"
   ]
  },
  {
   "cell_type": "code",
   "execution_count": 23,
   "id": "1e61c148",
   "metadata": {},
   "outputs": [],
   "source": [
    "#rename column\n",
    "df.rename(columns={'Call Id':'CallID'},inplace=True)"
   ]
  },
  {
   "cell_type": "markdown",
   "id": "c9f43a5b",
   "metadata": {},
   "source": [
    "#### Test"
   ]
  },
  {
   "cell_type": "code",
   "execution_count": 24,
   "id": "e2d46ec7",
   "metadata": {
    "scrolled": true
   },
   "outputs": [
    {
     "data": {
      "text/plain": [
       "Index(['CallID', 'Agent', 'Date', 'Time', 'Topic', 'Answered', 'Resolved',\n",
       "       'AnsweringSpeed', 'AvgTalkDuration', 'SatisfactionRating', 'DateTime'],\n",
       "      dtype='object')"
      ]
     },
     "execution_count": 24,
     "metadata": {},
     "output_type": "execute_result"
    }
   ],
   "source": [
    "#list the columns we have\n",
    "df.columns"
   ]
  },
  {
   "cell_type": "code",
   "execution_count": 25,
   "id": "e132aa99",
   "metadata": {},
   "outputs": [
    {
     "data": {
      "text/plain": [
       "(5000, 11)"
      ]
     },
     "execution_count": 25,
     "metadata": {},
     "output_type": "execute_result"
    }
   ],
   "source": [
    "df.shape"
   ]
  },
  {
   "cell_type": "code",
   "execution_count": 26,
   "id": "144b398a",
   "metadata": {},
   "outputs": [
    {
     "name": "stdout",
     "output_type": "stream",
     "text": [
      "<class 'pandas.core.frame.DataFrame'>\n",
      "RangeIndex: 5000 entries, 0 to 4999\n",
      "Data columns (total 11 columns):\n",
      " #   Column              Non-Null Count  Dtype         \n",
      "---  ------              --------------  -----         \n",
      " 0   CallID              5000 non-null   object        \n",
      " 1   Agent               5000 non-null   object        \n",
      " 2   Date                5000 non-null   datetime64[ns]\n",
      " 3   Time                5000 non-null   object        \n",
      " 4   Topic               5000 non-null   object        \n",
      " 5   Answered            5000 non-null   object        \n",
      " 6   Resolved            5000 non-null   object        \n",
      " 7   AnsweringSpeed      4054 non-null   float64       \n",
      " 8   AvgTalkDuration     4054 non-null   object        \n",
      " 9   SatisfactionRating  4054 non-null   float64       \n",
      " 10  DateTime            5000 non-null   datetime64[ns]\n",
      "dtypes: datetime64[ns](2), float64(2), object(7)\n",
      "memory usage: 429.8+ KB\n"
     ]
    }
   ],
   "source": [
    "df.info()"
   ]
  },
  {
   "cell_type": "markdown",
   "id": "a1ae6e43",
   "metadata": {},
   "source": [
    "### Visualization"
   ]
  },
  {
   "cell_type": "markdown",
   "id": "fdc9b4cf",
   "metadata": {},
   "source": [
    "### Dataset structure\n",
    "The master dataset that I will be using has 5,000 rows and 11 columns. 7 of the features datatypes are object(strings) while 2 are datetime datatype, and 2 are float."
   ]
  },
  {
   "cell_type": "markdown",
   "id": "c7d64c7b",
   "metadata": {},
   "source": [
    "### Main feature(s) of interest in your dataset\n",
    "My main features of interest are those ones that help PhoneNow to view the long-term trends in customer and agent behaviour. They are: `Topic`, `Answered`, `Resolved`, `AnsweringSpeed`, `AvgTalkDuration`, `SatisfactionRating`."
   ]
  },
  {
   "cell_type": "markdown",
   "id": "6a0e3aad",
   "metadata": {},
   "source": [
    "### Features in the dataset that will help support my investigation into the feature(s) of interest\n",
    "I will use `Agent`, `Date`, `Time`, and `DateTime` to give more context to my findings."
   ]
  },
  {
   "cell_type": "markdown",
   "id": "3ea5f645",
   "metadata": {},
   "source": [
    "### Univariate Exploration¶\n",
    "I will start my exploration with `Topic`, one of my main features of interest"
   ]
  },
  {
   "cell_type": "code",
   "execution_count": 27,
   "id": "a9f4ce5e",
   "metadata": {},
   "outputs": [
    {
     "data": {
      "text/plain": [
       "array(['Contract related', 'Technical Support', 'Payment related',\n",
       "       'Admin Support', 'Streaming'], dtype=object)"
      ]
     },
     "execution_count": 27,
     "metadata": {},
     "output_type": "execute_result"
    }
   ],
   "source": [
    "#see the unique values in Topic\n",
    "df.Topic.unique()"
   ]
  },
  {
   "cell_type": "code",
   "execution_count": 28,
   "id": "e5d1ea9d",
   "metadata": {},
   "outputs": [
    {
     "data": {
      "text/plain": [
       "Streaming            1022\n",
       "Technical Support    1019\n",
       "Payment related      1007\n",
       "Contract related      976\n",
       "Admin Support         976\n",
       "Name: Topic, dtype: int64"
      ]
     },
     "execution_count": 28,
     "metadata": {},
     "output_type": "execute_result"
    }
   ],
   "source": [
    "#get the count of each value\n",
    "df.Topic.value_counts()"
   ]
  },
  {
   "cell_type": "code",
   "execution_count": 29,
   "id": "e8cd7a7b",
   "metadata": {},
   "outputs": [],
   "source": [
    "#get the count of each value and convert all to a dataframe\n",
    "df_topic = df.Topic.value_counts().reset_index(name='count')\n",
    "df_topic.rename(columns={'index':'Topic'},inplace=True)"
   ]
  },
  {
   "cell_type": "code",
   "execution_count": 30,
   "id": "93844f8f",
   "metadata": {},
   "outputs": [
    {
     "data": {
      "image/png": "[encoded data removed]",
      "text/plain": [
       "<Figure size 640x480 with 1 Axes>"
      ]
     },
     "metadata": {},
     "output_type": "display_data"
    }
   ],
   "source": [
    "#plot the barchart of each Topic against its frequency\n",
    "base_color = sb.color_palette()[9]\n",
    "sb.barplot(data= df_topic, y = 'Topic', x ='count', color=base_color);\n",
    "plt.title('Topics');\n"
   ]
  },
  {
   "cell_type": "markdown",
   "id": "406f0451",
   "metadata": {},
   "source": [
    "Next is to analyze the `Answered` column"
   ]
  },
  {
   "cell_type": "code",
   "execution_count": 31,
   "id": "8c9cd286",
   "metadata": {},
   "outputs": [
    {
     "data": {
      "text/plain": [
       "array(['Y', 'N'], dtype=object)"
      ]
     },
     "execution_count": 31,
     "metadata": {},
     "output_type": "execute_result"
    }
   ],
   "source": [
    "#see the unique values in `Answered`\n",
    "df.Answered.unique()"
   ]
  },
  {
   "cell_type": "code",
   "execution_count": 34,
   "id": "b31d4611",
   "metadata": {},
   "outputs": [
    {
     "data": {
      "text/plain": [
       "Y    4054\n",
       "N     946\n",
       "Name: Answered, dtype: int64"
      ]
     },
     "execution_count": 34,
     "metadata": {},
     "output_type": "execute_result"
    }
   ],
   "source": [
    "#get the counts of the 2 values in Answered\n",
    "df.Answered.value_counts()"
   ]
  },
  {
   "cell_type": "code",
   "execution_count": 39,
   "id": "c70ea11b",
   "metadata": {},
   "outputs": [
    {
     "data": {
      "image/png": "[encoded data removed]",
      "text/plain": [
       "<Figure size 640x480 with 1 Axes>"
      ]
     },
     "metadata": {},
     "output_type": "display_data"
    }
   ],
   "source": [
    "#set the data and the labels\n",
    "data = df.Answered.value_counts()\n",
    "keys = ['Answered Call','Missed Call']\n",
    "palette_color = sns.color_palette('bright');\n",
    "plt.pie(data, labels=keys, colors=palette_color, autopct='%.0f%%');"
   ]
  },
  {
   "cell_type": "code",
   "execution_count": null,
   "id": "45775756",
   "metadata": {},
   "outputs": [],
   "source": []
  }
 ],
 "metadata": {
  "kernelspec": {
   "display_name": "Python 3 (ipykernel)",
   "language": "python",
   "name": "python3"
  },
  "language_info": {
   "codemirror_mode": {
    "name": "ipython",
    "version": 3
   },
   "file_extension": ".py",
   "mimetype": "text/x-python",
   "name": "python",
   "nbconvert_exporter": "python",
   "pygments_lexer": "ipython3",
   "version": "3.10.9"
  }
 },
 "nbformat": 4,
 "nbformat_minor": 5
}
