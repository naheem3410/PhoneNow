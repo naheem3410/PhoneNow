{
 "cells": [
  {
   "cell_type": "markdown",
   "id": "7f38fa4a",
   "metadata": {},
   "source": [
    "### Introduction\n",
    "The project is about extracting relevant key performance indicator (KPIs) and metrics that can be used by PhoneNow to view the long-term trends in customer and agent behaviour. PhoneNow is a telecommunication company interested in visualizing data in such a way that important aspects become very clear."
   ]
  },
  {
   "cell_type": "code",
   "execution_count": null,
   "id": "ad7c0c60",
   "metadata": {},
   "outputs": [],
   "source": [
    "# import all packages and set plots to be embedded inline\n",
    "import numpy as np\n",
    "import pandas as pd\n",
    "import matplotlib.pyplot as plt\n",
    "import seaborn as sns\n",
    "\n",
    "%matplotlib inline"
   ]
  },
  {
   "cell_type": "markdown",
   "id": "3b08afc6",
   "metadata": {},
   "source": [
    "## Data Wrangling"
   ]
  },
  {
   "cell_type": "markdown",
   "id": "f8f93122",
   "metadata": {},
   "source": [
    "### Data Gathering"
   ]
  },
  {
   "cell_type": "code",
   "execution_count": null,
   "id": "1604a44a",
   "metadata": {},
   "outputs": [],
   "source": [
    "#load the dataset\n",
    "df = pd.read_excel('01-Call-Center-Dataset.xlsx')"
   ]
  },
  {
   "cell_type": "markdown",
   "id": "849474ae",
   "metadata": {},
   "source": [
    "### Assessing Data"
   ]
  },
  {
   "cell_type": "markdown",
   "id": "50ac9f39",
   "metadata": {},
   "source": [
    "### Visual Assessment"
   ]
  },
  {
   "cell_type": "code",
   "execution_count": null,
   "id": "bbffaa52",
   "metadata": {},
   "outputs": [],
   "source": [
    "#show all rows and columns from dataset\n",
    "df"
   ]
  },
  {
   "cell_type": "markdown",
   "id": "d202445f",
   "metadata": {},
   "source": [
    "### Programmatic Assessment"
   ]
  },
  {
   "cell_type": "code",
   "execution_count": null,
   "id": "19571ef4",
   "metadata": {},
   "outputs": [],
   "source": [
    "#list first 5 rows\n",
    "df.head()"
   ]
  },
  {
   "cell_type": "code",
   "execution_count": null,
   "id": "71de83e3",
   "metadata": {},
   "outputs": [],
   "source": [
    "#check the number of rows, columns, datatypes and missing data\n",
    "df.info()"
   ]
  },
  {
   "cell_type": "code",
   "execution_count": null,
   "id": "305b6c4f",
   "metadata": {},
   "outputs": [],
   "source": [
    "#check basic statistics\n",
    "df.describe()"
   ]
  },
  {
   "cell_type": "code",
   "execution_count": null,
   "id": "d99414ad",
   "metadata": {},
   "outputs": [],
   "source": [
    "#check basic statistics\n",
    "df.describe(include='all')"
   ]
  },
  {
   "cell_type": "code",
   "execution_count": null,
   "id": "a077b211",
   "metadata": {},
   "outputs": [],
   "source": [
    "#check for null values\n",
    "df.isna().sum()"
   ]
  },
  {
   "cell_type": "code",
   "execution_count": null,
   "id": "06713735",
   "metadata": {},
   "outputs": [],
   "source": [
    "#check for duplicates\n",
    "df.duplicated().sum()"
   ]
  },
  {
   "cell_type": "code",
   "execution_count": null,
   "id": "9e354f3d",
   "metadata": {},
   "outputs": [],
   "source": [
    "#check the unique values in Agent\n",
    "df.Agent.unique()"
   ]
  },
  {
   "cell_type": "code",
   "execution_count": null,
   "id": "5a9c07a9",
   "metadata": {},
   "outputs": [],
   "source": [
    "#check the unique values in Topic\n",
    "df.Topic.unique()"
   ]
  },
  {
   "cell_type": "markdown",
   "id": "0a9a2ba1",
   "metadata": {},
   "source": [
    "### Tidiness issues"
   ]
  },
  {
   "cell_type": "markdown",
   "id": "d6fb56cd",
   "metadata": {},
   "source": [
    "* Date and Time columns are in separate columns"
   ]
  },
  {
   "cell_type": "markdown",
   "id": "0d03699a",
   "metadata": {},
   "source": [
    "### Quality issues"
   ]
  },
  {
   "cell_type": "markdown",
   "id": "22584aa0",
   "metadata": {},
   "source": [
    "* `Date` column is string/object datatype\n",
    "* `Answered (Y/N)` column name will not be easy to work with\n",
    "* `Speed of answer in seconds` column name is too long\n",
    "* `Satisfaction rating` column name has space in-between\n",
    "* `Call Id` column name has space in-between"
   ]
  },
  {
   "cell_type": "markdown",
   "id": "63949cd2",
   "metadata": {},
   "source": [
    "### Cleaning"
   ]
  },
  {
   "cell_type": "markdown",
   "id": "74ce46ba",
   "metadata": {},
   "source": [
    "### Tidiness Issues"
   ]
  },
  {
   "cell_type": "code",
   "execution_count": null,
   "id": "f91d4bdb",
   "metadata": {},
   "outputs": [],
   "source": [
    "#make a copy of the dataset before cleaning\n",
    "df_copy = df.copy()"
   ]
  },
  {
   "cell_type": "markdown",
   "id": "bc2f5914",
   "metadata": {},
   "source": [
    "#### Define\n",
    "I will create a new column `DateTime` that will combine both the date and time"
   ]
  },
  {
   "cell_type": "markdown",
   "id": "5a77a48a",
   "metadata": {},
   "source": [
    "#### Code"
   ]
  },
  {
   "cell_type": "code",
   "execution_count": null,
   "id": "b76efd91",
   "metadata": {},
   "outputs": [],
   "source": [
    "#create a new column \n",
    "df['DateTime'] = pd.to_datetime(df['Date'].astype(str) + ' ' + df['Time'].astype(str))"
   ]
  },
  {
   "cell_type": "markdown",
   "id": "8229112a",
   "metadata": {},
   "source": [
    "#### Test"
   ]
  },
  {
   "cell_type": "code",
   "execution_count": null,
   "id": "231b7074",
   "metadata": {},
   "outputs": [],
   "source": [
    "#list the columns datatype\n",
    "df.dtypes"
   ]
  },
  {
   "cell_type": "markdown",
   "id": "a4c07f47",
   "metadata": {},
   "source": [
    "### Quality Issues"
   ]
  },
  {
   "cell_type": "markdown",
   "id": "092a9ed1",
   "metadata": {},
   "source": [
    "#### Define\n",
    "I will change the datatype of Date to datetimestamp"
   ]
  },
  {
   "cell_type": "markdown",
   "id": "80e7f75d",
   "metadata": {},
   "source": [
    "#### Code"
   ]
  },
  {
   "cell_type": "code",
   "execution_count": null,
   "id": "e65521a8",
   "metadata": {},
   "outputs": [],
   "source": [
    "#change Date datatype to datetime\n",
    "df.Date = pd.to_datetime(df.Date)"
   ]
  },
  {
   "cell_type": "markdown",
   "id": "b8ffb5e0",
   "metadata": {},
   "source": [
    "#### Test"
   ]
  },
  {
   "cell_type": "code",
   "execution_count": null,
   "id": "4b282ba8",
   "metadata": {},
   "outputs": [],
   "source": [
    "#list the Date column datatype\n",
    "df.dtypes"
   ]
  },
  {
   "cell_type": "markdown",
   "id": "de3366f5",
   "metadata": {},
   "source": [
    "#### Define\n",
    "I will rename `Answered (Y/N)` column to `Answered`"
   ]
  },
  {
   "cell_type": "markdown",
   "id": "a97779a2",
   "metadata": {},
   "source": [
    "#### Code"
   ]
  },
  {
   "cell_type": "code",
   "execution_count": null,
   "id": "4de8ae55",
   "metadata": {},
   "outputs": [],
   "source": [
    "#rename column\n",
    "df.rename(columns={'Answered (Y/N)':'Answered'},inplace=True)"
   ]
  },
  {
   "cell_type": "markdown",
   "id": "908f835a",
   "metadata": {},
   "source": [
    "#### Test"
   ]
  },
  {
   "cell_type": "code",
   "execution_count": null,
   "id": "50576d88",
   "metadata": {
    "scrolled": true
   },
   "outputs": [],
   "source": [
    "#list the columns we have\n",
    "df.columns"
   ]
  },
  {
   "cell_type": "markdown",
   "id": "d0fa6d27",
   "metadata": {},
   "source": [
    "#### Define\n",
    "I will rename `Speed of answer in seconds` to `AnsweringSpeed`"
   ]
  },
  {
   "cell_type": "markdown",
   "id": "10dd18bf",
   "metadata": {},
   "source": [
    "#### Code"
   ]
  },
  {
   "cell_type": "code",
   "execution_count": null,
   "id": "a1e9a8ec",
   "metadata": {},
   "outputs": [],
   "source": [
    "#rename column\n",
    "df.rename(columns={'Speed of answer in seconds':'AnsweringSpeed'},inplace=True)"
   ]
  },
  {
   "cell_type": "markdown",
   "id": "a290971f",
   "metadata": {},
   "source": [
    "#### Test"
   ]
  },
  {
   "cell_type": "code",
   "execution_count": null,
   "id": "55956f43",
   "metadata": {
    "scrolled": true
   },
   "outputs": [],
   "source": [
    "#list the columns we have\n",
    "df.columns"
   ]
  },
  {
   "cell_type": "markdown",
   "id": "6cc7ddd3",
   "metadata": {},
   "source": [
    "#### Define\n",
    "I will rename `Satisfaction rating` to `SatisfactionRating`"
   ]
  },
  {
   "cell_type": "markdown",
   "id": "08bf6f9b",
   "metadata": {},
   "source": [
    "#### Code"
   ]
  },
  {
   "cell_type": "code",
   "execution_count": null,
   "id": "604706e0",
   "metadata": {},
   "outputs": [],
   "source": [
    "#rename column\n",
    "df.rename(columns={'Satisfaction rating':'SatisfactionRating'},inplace=True)"
   ]
  },
  {
   "cell_type": "markdown",
   "id": "f188c5e6",
   "metadata": {},
   "source": [
    "#### Test"
   ]
  },
  {
   "cell_type": "code",
   "execution_count": null,
   "id": "a12e5cbb",
   "metadata": {
    "scrolled": true
   },
   "outputs": [],
   "source": [
    "#list the columns we have\n",
    "df.columns"
   ]
  },
  {
   "cell_type": "markdown",
   "id": "f74d5f30",
   "metadata": {},
   "source": [
    "#### Define\n",
    "I will rename `Call Id` to `CallID`"
   ]
  },
  {
   "cell_type": "markdown",
   "id": "7f50bb47",
   "metadata": {},
   "source": [
    "#### Code"
   ]
  },
  {
   "cell_type": "code",
   "execution_count": null,
   "id": "1e61c148",
   "metadata": {},
   "outputs": [],
   "source": [
    "#rename column\n",
    "df.rename(columns={'Call Id':'CallID'},inplace=True)"
   ]
  },
  {
   "cell_type": "markdown",
   "id": "c9f43a5b",
   "metadata": {},
   "source": [
    "#### Test"
   ]
  },
  {
   "cell_type": "code",
   "execution_count": null,
   "id": "e2d46ec7",
   "metadata": {
    "scrolled": true
   },
   "outputs": [],
   "source": [
    "#list the columns we have\n",
    "df.columns"
   ]
  },
  {
   "cell_type": "code",
   "execution_count": null,
   "id": "e132aa99",
   "metadata": {},
   "outputs": [],
   "source": [
    "df.shape"
   ]
  },
  {
   "cell_type": "code",
   "execution_count": null,
   "id": "144b398a",
   "metadata": {},
   "outputs": [],
   "source": [
    "df.info()"
   ]
  },
  {
   "cell_type": "markdown",
   "id": "a1ae6e43",
   "metadata": {},
   "source": [
    "### Visualization"
   ]
  },
  {
   "cell_type": "markdown",
   "id": "fdc9b4cf",
   "metadata": {},
   "source": [
    "### Dataset structure\n",
    "The master dataset that I will be using has 5,000 rows and 11 columns. 7 of the features datatypes are object(strings) while 2 are datetime datatype, and 2 are float."
   ]
  },
  {
   "cell_type": "markdown",
   "id": "c7d64c7b",
   "metadata": {},
   "source": [
    "### Main feature(s) of interest in your dataset\n",
    "My main features of interest are those ones that help PhoneNow to view the long-term trends in customer and agent behaviour. They are: `Topic`, `Answered`, `Resolved`, `AnsweringSpeed`, `AvgTalkDuration`, `SatisfactionRating`."
   ]
  },
  {
   "cell_type": "markdown",
   "id": "6a0e3aad",
   "metadata": {},
   "source": [
    "### Features in the dataset that will help support my investigation into the feature(s) of interest\n",
    "I will use `Agent`, `Date`, `Time`, and `DateTime` to give more context to my findings."
   ]
  },
  {
   "cell_type": "markdown",
   "id": "3ea5f645",
   "metadata": {},
   "source": [
    "### Univariate Exploration¶\n",
    "I will start my exploration with `Topic`, one of my main features of interest"
   ]
  },
  {
   "cell_type": "code",
   "execution_count": null,
   "id": "a9f4ce5e",
   "metadata": {},
   "outputs": [],
   "source": [
    "#see the unique values in Topic\n",
    "df.Topic.unique()"
   ]
  },
  {
   "cell_type": "code",
   "execution_count": null,
   "id": "e5d1ea9d",
   "metadata": {},
   "outputs": [],
   "source": [
    "#get the count of each value\n",
    "df.Topic.value_counts()"
   ]
  },
  {
   "cell_type": "code",
   "execution_count": null,
   "id": "e8cd7a7b",
   "metadata": {},
   "outputs": [],
   "source": [
    "#get the count of each value and convert all to a dataframe\n",
    "df_topic = df.Topic.value_counts().reset_index(name='count')\n",
    "df_topic.rename(columns={'index':'Topic'},inplace=True)"
   ]
  },
  {
   "cell_type": "code",
   "execution_count": null,
   "id": "93844f8f",
   "metadata": {},
   "outputs": [],
   "source": [
    "#plot the barchart of each Topic against its frequency\n",
    "base_color = sns.color_palette()[9]\n",
    "sns.barplot(data= df_topic, y = 'Topic', x ='count', color=base_color);\n",
    "plt.title('Topics');\n"
   ]
  },
  {
   "cell_type": "markdown",
   "id": "eb61ae73",
   "metadata": {},
   "source": [
    "Next is to analyze the `Answered` column"
   ]
  },
  {
   "cell_type": "code",
   "execution_count": null,
   "id": "74614079",
   "metadata": {},
   "outputs": [],
   "source": [
    "#see the unique values in `Answered`\n",
    "df.Answered.unique()"
   ]
  },
  {
   "cell_type": "code",
   "execution_count": null,
   "id": "a037e58b",
   "metadata": {},
   "outputs": [],
   "source": [
    "#get the counts of the 2 values in Answered\n",
    "df.Answered.value_counts()"
   ]
  },
  {
   "cell_type": "code",
   "execution_count": null,
   "id": "1d5df44e",
   "metadata": {},
   "outputs": [],
   "source": [
    "#set the data and the labels\n",
    "data = df.Answered.value_counts()\n",
    "keys = ['Answered Call','Missed Call']\n",
    "palette_color = sns.color_palette('bright');\n",
    "plt.pie(data, labels=keys, colors=palette_color, autopct='%.0f%%');\n",
    "plt.title('Call Answered/Missed');"
   ]
  },
  {
   "cell_type": "markdown",
   "id": "aee6dfee",
   "metadata": {},
   "source": [
    "I will now analyze the `Resolved` feature"
   ]
  },
  {
   "cell_type": "code",
   "execution_count": null,
   "id": "74aa2924",
   "metadata": {},
   "outputs": [],
   "source": [
    "#see the unique values in `Resolved`\n",
    "df.Resolved.unique()"
   ]
  },
  {
   "cell_type": "code",
   "execution_count": null,
   "id": "b9252282",
   "metadata": {},
   "outputs": [],
   "source": [
    "#get the counts of the 2 values in Resolved\n",
    "df.Resolved.value_counts()"
   ]
  },
  {
   "cell_type": "code",
   "execution_count": null,
   "id": "1b41692b",
   "metadata": {},
   "outputs": [],
   "source": [
    "#set the data and the labels\n",
    "data = df.Resolved.value_counts()\n",
    "keys = ['Issue Resolved','Pending Issue']\n",
    "palette_color = sns.color_palette('bright');\n",
    "plt.pie(data, labels=keys, colors=palette_color, autopct='%.0f%%');\n",
    "plt.title('Issue Resolved/Pending');"
   ]
  },
  {
   "cell_type": "markdown",
   "id": "8a9140db",
   "metadata": {},
   "source": [
    "### Bivariate Exploration¶\n",
    "In order to uncover more insights, I will need to explore more bivariate relationships"
   ]
  },
  {
   "cell_type": "markdown",
   "id": "78fd9dd4",
   "metadata": {},
   "source": [
    "#### Agent Vs. Topic"
   ]
  },
  {
   "cell_type": "code",
   "execution_count": null,
   "id": "06dc65fe",
   "metadata": {},
   "outputs": [],
   "source": [
    "#arrange the data based on agent\n",
    "df.groupby(by='Agent').Resolved.count()"
   ]
  },
  {
   "cell_type": "code",
   "execution_count": null,
   "id": "f5e603c5",
   "metadata": {},
   "outputs": [],
   "source": [
    "#arrange the data based on agent\n",
    "df.groupby(by='Agent').get_group('Becky')"
   ]
  },
  {
   "cell_type": "code",
   "execution_count": null,
   "id": "f20060d8",
   "metadata": {},
   "outputs": [],
   "source": [
    "df.Agent"
   ]
  },
  {
   "cell_type": "markdown",
   "id": "76839fbe",
   "metadata": {},
   "source": [
    "#### Agent Vs. AnsweringSpeed\n",
    "It is time to know the answering speed of each agent. In order to analyze this, I will calculate the average answering speed for each agent and plot it against the respective agent"
   ]
  },
  {
   "cell_type": "code",
   "execution_count": null,
   "id": "a8e535ab",
   "metadata": {},
   "outputs": [],
   "source": [
    "#arrange the data based on agent and obtain the average of the `AnsweringSpeed`\n",
    "agent_speed_df = df.groupby(by='Agent')['AnsweringSpeed'].mean()\n",
    "#convert it to a dataframe for plotting\n",
    "agent_speed_df = agent_speed_df.reset_index()\n",
    "agent_speed_df.sort_values(by = ['AnsweringSpeed'], ascending=False, inplace=True)\n",
    "agent_speed_df"
   ]
  },
  {
   "cell_type": "code",
   "execution_count": null,
   "id": "79a2f85f",
   "metadata": {},
   "outputs": [],
   "source": [
    "#plot the data\n",
    "base_color = sns.color_palette()[1]\n",
    "sns.barplot(data= agent_speed_df, y = 'AnsweringSpeed', x ='Agent', color=base_color);\n",
    "plt.title('Agent Vs. AnsweringSpeed');"
   ]
  },
  {
   "cell_type": "markdown",
   "id": "4f468b18",
   "metadata": {},
   "source": [
    "The chart shows that Joe, Martha, Greg, and Dan have the highest average answering speed. However, Jim, Diane, and Stewart have almost the same average answering speed. Becky has the lowest average answering speed."
   ]
  },
  {
   "cell_type": "markdown",
   "id": "452daad2",
   "metadata": {},
   "source": [
    "#### Agent Vs. Average Talk Duration\n",
    "I will now map each agent to their average talk duration. This will involve converting the average talk duration to seconds"
   ]
  },
  {
   "cell_type": "code",
   "execution_count": null,
   "id": "ad6fb4d5",
   "metadata": {},
   "outputs": [],
   "source": [
    "df.dtypes"
   ]
  },
  {
   "cell_type": "code",
   "execution_count": null,
   "id": "0b0ebd03",
   "metadata": {},
   "outputs": [],
   "source": [
    "#show the average talk duration\n",
    "df.AvgTalkDuration"
   ]
  },
  {
   "cell_type": "code",
   "execution_count": null,
   "id": "753dc965",
   "metadata": {},
   "outputs": [],
   "source": [
    "#convert time given into seconds\n",
    "def to_seconds(time_val):\n",
    "    time_val = str(time_val)\n",
    "    time_val = time_val.split(':')\n",
    "    if(len(time_val) > 1):#skip NaN\n",
    "        [hours,minutes,seconds] = time_val\n",
    "        hours = int(hours) * 60 * 60\n",
    "        minutes = int(minutes) * 60\n",
    "        seconds = int(seconds)\n",
    "        return (hours+minutes+seconds)\n",
    "    else:#0 will be returned for all NaN\n",
    "        return 0"
   ]
  },
  {
   "cell_type": "code",
   "execution_count": null,
   "id": "0123f89f",
   "metadata": {},
   "outputs": [],
   "source": [
    "#see the datatypes\n",
    "df.dtypes"
   ]
  },
  {
   "cell_type": "code",
   "execution_count": null,
   "id": "f8e88eea",
   "metadata": {},
   "outputs": [],
   "source": [
    "#create another column for average talk duration in seconds\n",
    "df['AvgTalkDurationSeconds'] = df.AvgTalkDuration.apply(to_seconds)\n",
    "df.head()"
   ]
  },
  {
   "cell_type": "code",
   "execution_count": null,
   "id": "b3daeb4b",
   "metadata": {},
   "outputs": [],
   "source": [
    "#re-arrange the data based on agent and obtain the average of the `AvgTalkDurationSeconds`\n",
    "agent_talk_duration_df = df.groupby(by='Agent')['AvgTalkDurationSeconds'].mean()\n",
    "#convert it to a dataframe for plotting\n",
    "agent_talk_duration_df = agent_talk_duration_df.reset_index()\n",
    "agent_talk_duration_df.sort_values(by = ['AvgTalkDurationSeconds'], ascending=False, inplace=True)\n",
    "agent_talk_duration_df"
   ]
  },
  {
   "cell_type": "code",
   "execution_count": null,
   "id": "124fcc23",
   "metadata": {},
   "outputs": [],
   "source": [
    "#plot the data\n",
    "base_color = sns.color_palette()[3]\n",
    "sns.barplot(data= agent_talk_duration_df, y = 'AvgTalkDurationSeconds', x ='Agent', color=base_color);\n",
    "plt.title('Agent Vs. AvgTalkDurationSeconds');"
   ]
  },
  {
   "cell_type": "markdown",
   "id": "0d5680d0",
   "metadata": {},
   "source": [
    "The plot shows that Dan, Stewart, and Jim have the highest average talk duration in seconds. Joe and Greg have almost the same duration, same thing occurred with Becky and Martha. Diane has the least average talk duration in seconds."
   ]
  },
  {
   "cell_type": "markdown",
   "id": "2dd1cc54",
   "metadata": {},
   "source": [
    "#### Agent Vs. SatisfactionRating\n",
    "I will now analyze the Agent and SatisfactionRating in order to know how the agents perform against the satisfaction rating given by customers. I will take the average satisfaction rating for each agent and show it on a graph."
   ]
  },
  {
   "cell_type": "code",
   "execution_count": null,
   "id": "01f19710",
   "metadata": {},
   "outputs": [],
   "source": [
    "#arrange the data based on agent and obtain the average of the `SatisfactionRating`\n",
    "agent_rating_df = df.groupby(by='Agent')['SatisfactionRating'].mean()\n",
    "#convert it to a dataframe for plotting\n",
    "agent_rating_df = agent_rating_df.reset_index()\n",
    "agent_rating_df.sort_values(by = ['SatisfactionRating'], ascending=False, inplace=True)\n",
    "agent_rating_df"
   ]
  },
  {
   "cell_type": "code",
   "execution_count": null,
   "id": "d3e88acb",
   "metadata": {},
   "outputs": [],
   "source": [
    "#plot the data\n",
    "base_color = sns.color_palette()[0]\n",
    "sns.barplot(data= agent_rating_df, y = 'SatisfactionRating', x ='Agent', color=base_color);\n",
    "plt.title('Agent Vs. SatisfactionRating(avg)');"
   ]
  },
  {
   "cell_type": "markdown",
   "id": "9663f9a1",
   "metadata": {},
   "source": [
    "The chart shows that average satisfaction rating given by customers for each agent is not even up to 3.5"
   ]
  },
  {
   "cell_type": "code",
   "execution_count": null,
   "id": "b002315d",
   "metadata": {},
   "outputs": [],
   "source": []
  },
  {
   "cell_type": "code",
   "execution_count": null,
   "id": "ce722229",
   "metadata": {},
   "outputs": [],
   "source": []
  }
 ],
 "metadata": {
  "kernelspec": {
   "display_name": "Python 3 (ipykernel)",
   "language": "python",
   "name": "python3"
  },
  "language_info": {
   "codemirror_mode": {
    "name": "ipython",
    "version": 3
   },
   "file_extension": ".py",
   "mimetype": "text/x-python",
   "name": "python",
   "nbconvert_exporter": "python",
   "pygments_lexer": "ipython3",
   "version": "3.10.9"
  }
 },
 "nbformat": 4,
 "nbformat_minor": 5
}
